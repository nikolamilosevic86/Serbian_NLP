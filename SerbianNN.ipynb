{
  "nbformat": 4,
  "nbformat_minor": 0,
  "metadata": {
    "colab": {
      "name": "SerbianNN.ipynb",
      "provenance": [],
      "authorship_tag": "ABX9TyMoxW2IpcABEvSmOv8sK7Vc",
      "include_colab_link": true
    },
    "kernelspec": {
      "name": "python3",
      "display_name": "Python 3"
    },
    "language_info": {
      "name": "python"
    }
  },
  "cells": [
    {
      "cell_type": "markdown",
      "metadata": {
        "id": "view-in-github",
        "colab_type": "text"
      },
      "source": [
        "<a href=\"https://colab.research.google.com/github/nikolamilosevic86/Serbian_NLP/blob/main/SerbianNN.ipynb\" target=\"_parent\"><img src=\"https://colab.research.google.com/assets/colab-badge.svg\" alt=\"Open In Colab\"/></a>"
      ]
    },
    {
      "cell_type": "code",
      "metadata": {
        "colab": {
          "base_uri": "https://localhost:8080/"
        },
        "id": "QlJEu0fiwsWw",
        "outputId": "b539cc7e-9335-4aa1-e265-fa7b2d989046"
      },
      "source": [
        "print(\"This is for Serbia!\")"
      ],
      "execution_count": 1,
      "outputs": [
        {
          "output_type": "stream",
          "name": "stdout",
          "text": [
            "This is for Serbia!\n"
          ]
        }
      ]
    },
    {
      "cell_type": "markdown",
      "metadata": {
        "id": "0wBHjpU7V8DW"
      },
      "source": [
        "# Transliteracija\n",
        "\n",
        "S obzirom da tekst u datasetu dolazi u miksu latinice i ćirilice, treba prvo očistiti dataset i napraviti ga da radi u jednom pismu. Zato ćemo ceo tekst prevesti na latinicu. \n",
        "\n",
        "Kasnije transliteracija se može koristiti obrnuto isto da bi se dobio tekst na ćirilici. "
      ]
    },
    {
      "cell_type": "code",
      "metadata": {
        "id": "oRHv3s_TSiOL"
      },
      "source": [
        "def transliterate_serbian(stra:str):\n",
        "  mappings = {\"а\":\"a\",\"б\":\"b\",\"в\":\"v\",\"г\":\"g\",\"д\":\"d\",\"ђ\":\"đ\",\"е\":\"e\",\"ж\":\"ž\",\"з\":\"z\",\"и\":\"i\",\"ј\":\"j\",\"к\":\"k\",\"л\":\"l\",\"љ\":\"lj\",\"м\":\"m\",\"н\":\"n\",\"њ\":\"nj\",\"о\":\"o\",\"п\":\"p\",\"р\":\"r\",\"с\":\"s\",\"т\":\"t\",\"ћ\":\"ć\",\"у\":\"u\",\"ф\":\"f\",\"х\":\"h\",\"ц\":\"c\",\"ч\":\"č\",\"џ\":\"dž\",\"ш\":\"š\",\n",
        "            \"А\":\"A\",\"Б\":\"B\",\"В\":\"V\",\"Г\":\"G\",\"Д\":\"D\",\"Ђ\":\"Đ\",\"Е\":\"E\",\"Ж\":\"Ž\",\"З\":\"Z\",\"И\":\"I\",\"Ј\":\"J\",\"К\":\"K\",\"Л\":\"L\",\"Љ\":\"Lj\",\"М\":\"M\",\"Н\":\"N\",\"Њ\":\"Nj\",\"О\":\"O\",\"П\":\"P\",\"Р\":\"R\",\"С\":\"S\",\"Т\":\"T\",\"Ћ\":\"Ć\",\"У\":\"U\",\"Ф\":\"F\",\"Х\":\"H\",\"Ц\":\"C\",\"Ч\":\"Č\",\"Џ\":\"Dž\",\"Ш\":\"Š\"}\n",
        "  translit = \"\"\n",
        "  for char in stra:\n",
        "    if char in mappings.keys():\n",
        "      translit = translit + mappings[char]\n",
        "    else:\n",
        "      translit = translit + char\n",
        "  return translit"
      ],
      "execution_count": 2,
      "outputs": []
    },
    {
      "cell_type": "markdown",
      "metadata": {
        "id": "iswzspw5WcBX"
      },
      "source": [
        "Test transliteracije"
      ]
    },
    {
      "cell_type": "code",
      "metadata": {
        "id": "AVx0ak7_iyjs"
      },
      "source": [
        ""
      ],
      "execution_count": null,
      "outputs": []
    },
    {
      "cell_type": "code",
      "metadata": {
        "colab": {
          "base_uri": "https://localhost:8080/",
          "height": 35
        },
        "id": "D099WVrbVmWx",
        "outputId": "928e9e57-0894-40df-dff8-cff6c5347ae9"
      },
      "source": [
        "transliterate_serbian(\"Ја идем у продавницу и љубав\")"
      ],
      "execution_count": 7,
      "outputs": [
        {
          "output_type": "execute_result",
          "data": {
            "application/vnd.google.colaboratory.intrinsic+json": {
              "type": "string"
            },
            "text/plain": [
              "'Ja idem u prodavnicu i ljubav'"
            ]
          },
          "metadata": {},
          "execution_count": 7
        }
      ]
    },
    {
      "cell_type": "code",
      "metadata": {
        "colab": {
          "base_uri": "https://localhost:8080/"
        },
        "id": "NiTov6Mii0HZ",
        "outputId": "309f56d0-7cb8-434b-e5f3-b005485ca2a4"
      },
      "source": [
        "from google.colab import drive\n",
        "drive.mount(\"/content/drive/\")"
      ],
      "execution_count": 19,
      "outputs": [
        {
          "output_type": "stream",
          "name": "stdout",
          "text": [
            "Mounted at /content/drive/\n"
          ]
        }
      ]
    },
    {
      "cell_type": "code",
      "metadata": {
        "colab": {
          "base_uri": "https://localhost:8080/"
        },
        "id": "gWyiGnVxjEbU",
        "outputId": "c67194d2-5108-48c0-fd2b-7db26deed67a"
      },
      "source": [
        "!ls -la drive/MyDrive/Oscar_rs/\n"
      ],
      "execution_count": 22,
      "outputs": [
        {
          "output_type": "stream",
          "name": "stdout",
          "text": [
            "total 1887437\n",
            "-rw------- 1 root root 1932734673 Dec 10  2020 sr_part_1.txt\n"
          ]
        }
      ]
    },
    {
      "cell_type": "code",
      "metadata": {
        "id": "IZXYy-xGjtWU"
      },
      "source": [
        "file1 = open('/content/drive/MyDrive/Oscar_rs/sr_part_3.txt', 'r')\n",
        "Lines = file1.readlines()"
      ],
      "execution_count": 31,
      "outputs": []
    },
    {
      "cell_type": "code",
      "metadata": {
        "id": "xc7CqtW7ni2I"
      },
      "source": [
        "new_lines = []\n",
        "for line in Lines:\n",
        "  new_line = transliterate_serbian(line)\n",
        "  new_lines.append(new_line)\n",
        "file2 = open('/content/drive/MyDrive/Oscar_rs/sr_part_3_tl.txt', 'w')\n",
        "file2.writelines(new_lines)\n",
        "file2.close()"
      ],
      "execution_count": 32,
      "outputs": []
    }
  ]
}